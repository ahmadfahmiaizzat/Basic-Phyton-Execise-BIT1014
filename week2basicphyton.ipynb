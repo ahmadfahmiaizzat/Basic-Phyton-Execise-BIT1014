{
 "cells": [
  {
   "cell_type": "code",
   "execution_count": 16,
   "id": "a47659e5-4c5b-43fe-a2fb-27d07610c5ad",
   "metadata": {},
   "outputs": [
    {
     "name": "stdout",
     "output_type": "stream",
     "text": [
      "76.0\n"
     ]
    }
   ],
   "source": [
    "result = 23 - (4 * 15) / 3 + 73\n",
    "print(result)"
   ]
  },
  {
   "cell_type": "code",
   "execution_count": 2,
   "id": "d63393eb-1a4a-4b31-89ee-21aa3b308691",
   "metadata": {},
   "outputs": [
    {
     "name": "stdout",
     "output_type": "stream",
     "text": [
      "Good day\n"
     ]
    }
   ],
   "source": [
    "greeting1 = \"Good\"\n",
    "greeting2 = \"day\"\n",
    "\n",
    "full_greeting = greeting1 + \" \" + greeting2\n",
    "print(full_greeting)"
   ]
  },
  {
   "cell_type": "code",
   "execution_count": 3,
   "id": "6dd5f55f-6a85-4556-b91d-08387f9dfc85",
   "metadata": {},
   "outputs": [
    {
     "name": "stdout",
     "output_type": "stream",
     "text": [
      "Good day\n"
     ]
    }
   ],
   "source": [
    "greeting1 = \"Good\"\n",
    "greeting2 = \"day\"\n",
    "\n",
    "full_greeting = greeting1 + \" \" + greeting2\n",
    "print(full_greeting)"
   ]
  },
  {
   "cell_type": "code",
   "execution_count": 4,
   "id": "f7984a38-ae2a-4693-a4b4-a81b467dccf6",
   "metadata": {},
   "outputs": [
    {
     "name": "stdout",
     "output_type": "stream",
     "text": [
      "299482.5625\n"
     ]
    }
   ],
   "source": [
    "number = 547.25\n",
    "square = number ** 2\n",
    "print(square)"
   ]
  },
  {
   "cell_type": "code",
   "execution_count": 5,
   "id": "ca7d13b4-39ce-4a20-a238-a28b706e51e5",
   "metadata": {},
   "outputs": [
    {
     "name": "stdout",
     "output_type": "stream",
     "text": [
      "31.195512497793654\n"
     ]
    }
   ],
   "source": [
    "result = 973.16 ** 0.5\n",
    "print(result)"
   ]
  },
  {
   "cell_type": "code",
   "execution_count": 10,
   "id": "4ee51f89-ebda-4ee6-83ca-98bb59fbaf45",
   "metadata": {
    "scrolled": true
   },
   "outputs": [
    {
     "name": "stdout",
     "output_type": "stream",
     "text": [
      "54.760843675020205\n"
     ]
    }
   ],
   "source": [
    "square_of_45 = 45 ** 2\n",
    "sum_value = 973.75 + square_of_45\n",
    "square_root = sum_value ** 0.5\n",
    "print(square_root)\n"
   ]
  },
  {
   "cell_type": "code",
   "execution_count": 9,
   "id": "fa439b6e-ce7a-46ba-989a-b392b908a9d2",
   "metadata": {},
   "outputs": [
    {
     "name": "stdout",
     "output_type": "stream",
     "text": [
      "Jonathan's grade is: Pass\n"
     ]
    }
   ],
   "source": [
    "name = 'Jonathan'  # Note: this should be 'Sally', not 'Jonathan'\n",
    "mark = 75\n",
    "\n",
    "# Compute the grade\n",
    "if mark >= 50:\n",
    "    grade = \"Pass\"\n",
    "else:\n",
    "    grade = \"Fail\"\n",
    "\n",
    "print(f\"{name}'s grade is: {grade}\")\n"
   ]
  },
  {
   "cell_type": "code",
   "execution_count": 11,
   "id": "7bf4991d-e69e-40a8-aff6-b8c6a77791ac",
   "metadata": {},
   "outputs": [
    {
     "name": "stdout",
     "output_type": "stream",
     "text": [
      "The area of the circle with radius 5.7 is: 102.07\n"
     ]
    }
   ],
   "source": [
    "# Define variables\n",
    "import math\n",
    "radius = 5.7\n",
    "\n",
    "# Compute the area\n",
    "area = math.pi * (radius ** 2)\n",
    "\n",
    "print(f\"The area of the circle with radius {radius} is: {area:.2f}\")"
   ]
  },
  {
   "cell_type": "code",
   "execution_count": 12,
   "id": "3341d1aa-69d5-411a-8c94-8bfedc3e8b0f",
   "metadata": {},
   "outputs": [
    {
     "name": "stdout",
     "output_type": "stream",
     "text": [
      "Take home pay = $ -31487.4\n"
     ]
    }
   ],
   "source": [
    "# Define variables\n",
    "hours = 98\n",
    "rate = 35.70\n",
    "\n",
    "# Compute gross pay\n",
    "gross_pay = hours * rate\n",
    "\n",
    "# Compute pay (same as gross pay in this context)\n",
    "pay = gross_pay\n",
    "\n",
    "# Compute deduction\n",
    "deduction = 10 * pay\n",
    "\n",
    "# Compute net pay\n",
    "net_pay = pay - deduction\n",
    "\n",
    "print('Take home pay = $', round(net_pay, 2))"
   ]
  },
  {
   "cell_type": "code",
   "execution_count": 14,
   "id": "aca283f4-583e-47d5-85b7-0809d0cc98da",
   "metadata": {},
   "outputs": [
    {
     "name": "stdout",
     "output_type": "stream",
     "text": [
      "1. 98 * 35.70 = 3498.6\n",
      "2. (10 * 35.70) + (98 * 35.70) = 3855.6\n",
      "3. (10 * 35.70) - (98 * 35.70) = -3141.6\n",
      "4. (98 * 35.70) / (10 + 35.70) = 76.56\n",
      "5. ((98 * 35.70) / 10) - (98 * 35.70) = -3148.74\n"
     ]
    }
   ],
   "source": [
    "# Define variables\n",
    "hours = 98\n",
    "rate = 35.70\n",
    "\n",
    "# Calculate each expression\n",
    "print(\"1. 98 * 35.70 =\", round(hours * rate, 2))\n",
    "print(\"2. (10 * 35.70) + (98 * 35.70) =\", round(10*rate + hours*rate, 2))\n",
    "print(\"3. (10 * 35.70) - (98 * 35.70) =\", round(10*rate - hours*rate, 2))\n",
    "print(\"4. (98 * 35.70) / (10 + 35.70) =\", round(hours*rate / (10+rate), 2))\n",
    "print(\"5. ((98 * 35.70) / 10) - (98 * 35.70) =\", round((hours*rate)/10 - hours*rate, 2))"
   ]
  },
  {
   "cell_type": "code",
   "execution_count": null,
   "id": "1673a7fa-f3d6-4d1d-b4d2-57ec9ac8ada2",
   "metadata": {},
   "outputs": [],
   "source": []
  }
 ],
 "metadata": {
  "kernelspec": {
   "display_name": "Python 3 (ipykernel)",
   "language": "python",
   "name": "python3"
  },
  "language_info": {
   "codemirror_mode": {
    "name": "ipython",
    "version": 3
   },
   "file_extension": ".py",
   "mimetype": "text/x-python",
   "name": "python",
   "nbconvert_exporter": "python",
   "pygments_lexer": "ipython3",
   "version": "3.12.4"
  }
 },
 "nbformat": 4,
 "nbformat_minor": 5
}

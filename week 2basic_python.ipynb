{
 "cells": [
  {
   "cell_type": "markdown",
   "id": "3b677ca2",
   "metadata": {},
   "source": [
    "# week 2: Basic python operation"
   ]
  },
  {
   "cell_type": "markdown",
   "id": "9e0c3aca",
   "metadata": {},
   "source": [
    "# example header 1"
   ]
  },
  {
   "cell_type": "markdown",
   "id": "f1853990",
   "metadata": {},
   "source": [
    "## header 2"
   ]
  },
  {
   "cell_type": "markdown",
   "id": "9e996be8",
   "metadata": {},
   "source": [
    "### header 3"
   ]
  },
  {
   "cell_type": "code",
   "execution_count": 127,
   "id": "3ecd7e83",
   "metadata": {},
   "outputs": [
    {
     "name": "stdout",
     "output_type": "stream",
     "text": [
      "76.0\n"
     ]
    }
   ],
   "source": [
    "# example mathematical operation\n",
    "\"\"\"\n",
    "this cell will do some mathematical operation\n",
    "+ addition\n",
    "- substraction\n",
    "* multiplicaplion\n",
    "/ division\n",
    "# comment\n",
    "shortcut for comment : ctrl + /\n",
    "print (\"HELLO WORLD\")\n",
    "\"\"\"\n",
    "\n",
    "example = 23-(4 * 15) / 3 + 73\n",
    "\n",
    "print (example)"
   ]
  },
  {
   "cell_type": "code",
   "execution_count": 18,
   "id": "731c6351",
   "metadata": {},
   "outputs": [
    {
     "name": "stdout",
     "output_type": "stream",
     "text": [
      "Good\n",
      "a is type  <class 'str'>\n",
      "day\n",
      "b is type  <class 'str'>\n",
      "the concatenate result:  Good day\n"
     ]
    }
   ],
   "source": [
    "# Concatenate (join) the strings “Good” and “day”\n",
    "\"\"\"\n",
    "string use \"string\" or 'string'\n",
    "\"\"\"\n",
    "a = \"Good\"\n",
    "b = 'day'\n",
    "\n",
    "print (a)\n",
    "print(\"a is type \",type(a))\n",
    "print (b)\n",
    "print(\"b is type \",type(b))\n",
    "\n",
    "concantetane_2_string = a+' '+b\n",
    "print (\"the concatenate result: \",concantetane_2_string)"
   ]
  },
  {
   "cell_type": "code",
   "execution_count": 25,
   "id": "01f65244",
   "metadata": {},
   "outputs": [
    {
     "name": "stdout",
     "output_type": "stream",
     "text": [
      "concatenate result :  Time and chance\n"
     ]
    }
   ],
   "source": [
    "# Concatenate the strings “time”, “and”,  “chance”\n",
    "c = \"Time\"\n",
    "d = \"and\"\n",
    "e = \"chance\"\n",
    "\n",
    "concate_3_variable = c + ' ' + d + ' ' + e\n",
    "print (\"concatenate result : \", concate_3_variable)"
   ]
  },
  {
   "cell_type": "code",
   "execution_count": 31,
   "id": "82edbad0",
   "metadata": {},
   "outputs": [
    {
     "name": "stdout",
     "output_type": "stream",
     "text": [
      "number kuasa dua bagi 547.25 ialah:  299482.5625\n",
      "number kuasa 2 mengguna kan math library:  299482.5625\n",
      "punca kuasa 2 bagi 973.16 ialah:  31.195512497793654\n"
     ]
    }
   ],
   "source": [
    "# square and square root operation\n",
    "\"\"\"\n",
    "square : base ** exponent (2^2 = 2**2, 5^10 = 5**10)\n",
    "squareroot : use math library (math.sqrt) \n",
    "\n",
    "a)\tSquare of 547.25\n",
    "b)\tSquare root of 973.16\n",
    "c)\tSquare root of (973.75 + square of (45) )\n",
    "\n",
    "\"\"\"\n",
    "import math\n",
    "\n",
    "# square of a variable\n",
    "sq_number = 547.25 ** 2\n",
    "print (\"number kuasa dua bagi 547.25 ialah: \",sq_number)\n",
    "sq_math = math.pow (547.25,2)\n",
    "print (\"number kuasa 2 mengguna kan math library: \", sq_math)\n",
    "# square root\n",
    "sq_rt_number = math.sqrt(973.16)\n",
    "print (\"punca kuasa 2 bagi 973.16 ialah: \",sq_rt_number)\n",
    "\n"
   ]
  },
  {
   "cell_type": "code",
   "execution_count": 88,
   "id": "45d99e91",
   "metadata": {},
   "outputs": [
    {
     "name": "stdout",
     "output_type": "stream",
     "text": [
      "Jonathan grade is  invalid\n"
     ]
    }
   ],
   "source": [
    "# range of number\n",
    "\"\"\"\n",
    "3.\tGiven Sally’s name and mark, compute her grade (0-49 = Fail, 50-100 Pass):\n",
    "\n",
    "name = 'Jonathan'\n",
    "mark = 75\n",
    "\n",
    "\"\"\"\n",
    "name = \"Jonathan\"\n",
    "mark = 101\n",
    "\n",
    "if mark <= 49:\n",
    "    grade = \"failed\"\n",
    "elif mark >= 50 and mark <= 100:\n",
    "    grade = \"Pass\"\n",
    "else:\n",
    "    grade = \"invalid\"\n",
    "  \n",
    "print (name,\"grade is \",grade)\n"
   ]
  },
  {
   "cell_type": "code",
   "execution_count": 89,
   "id": "1f42173e",
   "metadata": {},
   "outputs": [
    {
     "name": "stdout",
     "output_type": "stream",
     "text": [
      "Sally grade is  invalid\n"
     ]
    }
   ],
   "source": [
    "name = \"Sally\"\n",
    "mark = 150\n",
    "\n",
    "if mark <= 49:\n",
    "    grade = \"failed\"\n",
    "elif mark >= 50 and mark <= 100:\n",
    "    grade = \"Pass\"\n",
    "else:\n",
    "    grade = \"invalid\"\n",
    "\n",
    "print (name,\"grade is \",grade)"
   ]
  },
  {
   "cell_type": "code",
   "execution_count": 94,
   "id": "14b12335",
   "metadata": {},
   "outputs": [
    {
     "name": "stdout",
     "output_type": "stream",
     "text": [
      "area of circle:  102.07034531513239\n",
      "area of circle:  102.07034531513239\n"
     ]
    }
   ],
   "source": [
    "# circle area\n",
    "\"\"\"\n",
    "4.\tGiven radius of a circle, calculate its area:\n",
    "\n",
    "radius = 5.7\n",
    "circle_area = pi*(r^2)\n",
    "\n",
    "\"\"\"\n",
    "pi = math.pi\n",
    "radius = 5.7\n",
    "\n",
    "circle_area1 = pi * (radius**2)\n",
    "circle_area2 = pi * (pow(radius,2))\n",
    "\n",
    "\n",
    "print (\"area of circle: \", circle_area1)\n",
    "print (\"area of circle: \", circle_area2)"
   ]
  },
  {
   "cell_type": "code",
   "execution_count": 128,
   "id": "c778b228",
   "metadata": {},
   "outputs": [
    {
     "name": "stdout",
     "output_type": "stream",
     "text": [
      "Take home pay = $ 3427.2000000000003\n"
     ]
    }
   ],
   "source": [
    "# net pay equation\n",
    "\"\"\"\n",
    "hours = 98 \n",
    "rate = 35.70\n",
    "gross_pay = hours * rate\n",
    "deduction = 10 * rate\n",
    "net_pay = pay - deduction \n",
    "print ('Take home pay = $', net_pay)\n",
    "\"\"\"\n",
    "\n",
    "hours = 98 \n",
    "rate = 35.70\n",
    "gross_pay = hours * rate\n",
    "deduction = 2 * rate\n",
    "net_pay = gross_pay - deduction \n",
    "print ('Take home pay = $', net_pay)"
   ]
  }
 ],
 "metadata": {
  "kernelspec": {
   "display_name": "Python 3 (ipykernel)",
   "language": "python",
   "name": "python3"
  },
  "language_info": {
   "codemirror_mode": {
    "name": "ipython",
    "version": 3
   },
   "file_extension": ".py",
   "mimetype": "text/x-python",
   "name": "python",
   "nbconvert_exporter": "python",
   "pygments_lexer": "ipython3",
   "version": "3.9.13"
  }
 },
 "nbformat": 4,
 "nbformat_minor": 5
}
